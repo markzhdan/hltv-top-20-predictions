{
 "cells": [
  {
   "cell_type": "code",
   "execution_count": 129,
   "metadata": {
    "colab": {
     "base_uri": "https://localhost:8080/"
    },
    "executionInfo": {
     "elapsed": 21378,
     "status": "ok",
     "timestamp": 1746748256552,
     "user": {
      "displayName": "Mark Zhdan",
      "userId": "15470042796455103966"
     },
     "user_tz": 300
    },
    "id": "JKGT7ZtMk1mG",
    "outputId": "206d7535-6966-4da3-8a3b-8f09afcf42de"
   },
   "outputs": [],
   "source": [
    "import pandas as pd\n",
    "import numpy as np\n",
    "from sklearn.svm import SVR\n",
    "from sklearn.model_selection import GridSearchCV, KFold\n",
    "from sklearn.preprocessing import StandardScaler\n",
    "from sklearn.feature_selection import SelectKBest, f_regression\n",
    "from sklearn.metrics import mean_squared_error\n",
    "import matplotlib.pyplot as plt"
   ]
  },
  {
   "cell_type": "code",
   "execution_count": 130,
   "metadata": {
    "colab": {
     "base_uri": "https://localhost:8080/",
     "height": 273
    },
    "executionInfo": {
     "elapsed": 106,
     "status": "ok",
     "timestamp": 1746749744991,
     "user": {
      "displayName": "Mark Zhdan",
      "userId": "15470042796455103966"
     },
     "user_tz": 300
    },
    "id": "9RdA8hmCleN0",
    "outputId": "7b806c7c-98e9-4466-dcc3-b62999fdbb80"
   },
   "outputs": [
    {
     "name": "stdout",
     "output_type": "stream",
     "text": [
      "Combined training shape: (140, 80)\n"
     ]
    },
    {
     "data": {
      "text/html": [
       "<div>\n",
       "<style scoped>\n",
       "    .dataframe tbody tr th:only-of-type {\n",
       "        vertical-align: middle;\n",
       "    }\n",
       "\n",
       "    .dataframe tbody tr th {\n",
       "        vertical-align: top;\n",
       "    }\n",
       "\n",
       "    .dataframe thead th {\n",
       "        text-align: right;\n",
       "    }\n",
       "</style>\n",
       "<table border=\"1\" class=\"dataframe\">\n",
       "  <thead>\n",
       "    <tr style=\"text-align: right;\">\n",
       "      <th></th>\n",
       "      <th>Player</th>\n",
       "      <th>adr</th>\n",
       "      <th>assists__per__round</th>\n",
       "      <th>b_adr</th>\n",
       "      <th>b_assists__per__round</th>\n",
       "      <th>b_damage__per__round</th>\n",
       "      <th>b_deaths__per__round</th>\n",
       "      <th>b_dpr</th>\n",
       "      <th>b_grenade_dmg__per__round</th>\n",
       "      <th>b_headshot_%</th>\n",
       "      <th>...</th>\n",
       "      <th>vs_top20</th>\n",
       "      <th>vs_top30</th>\n",
       "      <th>vs_top5</th>\n",
       "      <th>MVPs</th>\n",
       "      <th>EVPs</th>\n",
       "      <th>Rank</th>\n",
       "      <th>Year</th>\n",
       "      <th>Score</th>\n",
       "      <th>b_rating_1.0</th>\n",
       "      <th>m_rating_1.0</th>\n",
       "    </tr>\n",
       "  </thead>\n",
       "  <tbody>\n",
       "    <tr>\n",
       "      <th>0</th>\n",
       "      <td>s1mple</td>\n",
       "      <td>87.2</td>\n",
       "      <td>0.10</td>\n",
       "      <td>87.4</td>\n",
       "      <td>0.11</td>\n",
       "      <td>87.4</td>\n",
       "      <td>0.59</td>\n",
       "      <td>0.59</td>\n",
       "      <td>2.7</td>\n",
       "      <td>41.7</td>\n",
       "      <td>...</td>\n",
       "      <td>1.34</td>\n",
       "      <td>1.34</td>\n",
       "      <td>1.35</td>\n",
       "      <td>6</td>\n",
       "      <td>4</td>\n",
       "      <td>1</td>\n",
       "      <td>2018</td>\n",
       "      <td>100</td>\n",
       "      <td>NaN</td>\n",
       "      <td>NaN</td>\n",
       "    </tr>\n",
       "    <tr>\n",
       "      <th>1</th>\n",
       "      <td>device</td>\n",
       "      <td>81.4</td>\n",
       "      <td>0.12</td>\n",
       "      <td>80.8</td>\n",
       "      <td>0.12</td>\n",
       "      <td>80.8</td>\n",
       "      <td>0.59</td>\n",
       "      <td>0.59</td>\n",
       "      <td>5.1</td>\n",
       "      <td>32.3</td>\n",
       "      <td>...</td>\n",
       "      <td>1.24</td>\n",
       "      <td>1.24</td>\n",
       "      <td>1.23</td>\n",
       "      <td>7</td>\n",
       "      <td>1</td>\n",
       "      <td>2</td>\n",
       "      <td>2018</td>\n",
       "      <td>99</td>\n",
       "      <td>NaN</td>\n",
       "      <td>NaN</td>\n",
       "    </tr>\n",
       "    <tr>\n",
       "      <th>2</th>\n",
       "      <td>NiKo</td>\n",
       "      <td>84.8</td>\n",
       "      <td>0.13</td>\n",
       "      <td>86.6</td>\n",
       "      <td>0.13</td>\n",
       "      <td>86.6</td>\n",
       "      <td>0.63</td>\n",
       "      <td>0.63</td>\n",
       "      <td>3.6</td>\n",
       "      <td>48.3</td>\n",
       "      <td>...</td>\n",
       "      <td>1.20</td>\n",
       "      <td>1.21</td>\n",
       "      <td>1.21</td>\n",
       "      <td>2</td>\n",
       "      <td>7</td>\n",
       "      <td>3</td>\n",
       "      <td>2018</td>\n",
       "      <td>98</td>\n",
       "      <td>NaN</td>\n",
       "      <td>NaN</td>\n",
       "    </tr>\n",
       "    <tr>\n",
       "      <th>3</th>\n",
       "      <td>electronic</td>\n",
       "      <td>84.5</td>\n",
       "      <td>0.14</td>\n",
       "      <td>82.2</td>\n",
       "      <td>0.13</td>\n",
       "      <td>82.2</td>\n",
       "      <td>0.63</td>\n",
       "      <td>0.63</td>\n",
       "      <td>4.6</td>\n",
       "      <td>48.7</td>\n",
       "      <td>...</td>\n",
       "      <td>1.16</td>\n",
       "      <td>1.18</td>\n",
       "      <td>1.20</td>\n",
       "      <td>0</td>\n",
       "      <td>7</td>\n",
       "      <td>4</td>\n",
       "      <td>2018</td>\n",
       "      <td>97</td>\n",
       "      <td>NaN</td>\n",
       "      <td>NaN</td>\n",
       "    </tr>\n",
       "    <tr>\n",
       "      <th>4</th>\n",
       "      <td>dupreeh</td>\n",
       "      <td>79.8</td>\n",
       "      <td>0.14</td>\n",
       "      <td>78.7</td>\n",
       "      <td>0.14</td>\n",
       "      <td>78.7</td>\n",
       "      <td>0.63</td>\n",
       "      <td>0.63</td>\n",
       "      <td>3.2</td>\n",
       "      <td>49.7</td>\n",
       "      <td>...</td>\n",
       "      <td>1.17</td>\n",
       "      <td>1.16</td>\n",
       "      <td>1.17</td>\n",
       "      <td>1</td>\n",
       "      <td>8</td>\n",
       "      <td>5</td>\n",
       "      <td>2018</td>\n",
       "      <td>96</td>\n",
       "      <td>NaN</td>\n",
       "      <td>NaN</td>\n",
       "    </tr>\n",
       "  </tbody>\n",
       "</table>\n",
       "<p>5 rows × 80 columns</p>\n",
       "</div>"
      ],
      "text/plain": [
       "       Player   adr  assists__per__round  b_adr  b_assists__per__round  \\\n",
       "0      s1mple  87.2                 0.10   87.4                   0.11   \n",
       "1      device  81.4                 0.12   80.8                   0.12   \n",
       "2        NiKo  84.8                 0.13   86.6                   0.13   \n",
       "3  electronic  84.5                 0.14   82.2                   0.13   \n",
       "4     dupreeh  79.8                 0.14   78.7                   0.14   \n",
       "\n",
       "   b_damage__per__round  b_deaths__per__round  b_dpr  \\\n",
       "0                  87.4                  0.59   0.59   \n",
       "1                  80.8                  0.59   0.59   \n",
       "2                  86.6                  0.63   0.63   \n",
       "3                  82.2                  0.63   0.63   \n",
       "4                  78.7                  0.63   0.63   \n",
       "\n",
       "   b_grenade_dmg__per__round  b_headshot_%  ...  vs_top20  vs_top30  vs_top5  \\\n",
       "0                        2.7          41.7  ...      1.34      1.34     1.35   \n",
       "1                        5.1          32.3  ...      1.24      1.24     1.23   \n",
       "2                        3.6          48.3  ...      1.20      1.21     1.21   \n",
       "3                        4.6          48.7  ...      1.16      1.18     1.20   \n",
       "4                        3.2          49.7  ...      1.17      1.16     1.17   \n",
       "\n",
       "   MVPs  EVPs  Rank  Year  Score  b_rating_1.0  m_rating_1.0  \n",
       "0     6     4     1  2018    100           NaN           NaN  \n",
       "1     7     1     2  2018     99           NaN           NaN  \n",
       "2     2     7     3  2018     98           NaN           NaN  \n",
       "3     0     7     4  2018     97           NaN           NaN  \n",
       "4     1     8     5  2018     96           NaN           NaN  \n",
       "\n",
       "[5 rows x 80 columns]"
      ]
     },
     "execution_count": 130,
     "metadata": {},
     "output_type": "execute_result"
    }
   ],
   "source": [
    "years = range(2018, 2024)\n",
    "dfs = []\n",
    "\n",
    "base_path = '../../data/clean/complex/final/player_data_{}.csv'\n",
    "for year in years:\n",
    "    df = pd.read_csv(base_path.format(year))\n",
    "    df['Year'] = year\n",
    "    df['Score'] = 101 - df['Rank']  # Higher score = better player\n",
    "    dfs.append(df)\n",
    "\n",
    "train_df = pd.concat(dfs, ignore_index=True)\n",
    "print(f\"Combined training shape: {train_df.shape}\")\n",
    "train_df.head()\n"
   ]
  },
  {
   "cell_type": "code",
   "execution_count": 131,
   "metadata": {
    "executionInfo": {
     "elapsed": 11,
     "status": "ok",
     "timestamp": 1746749747674,
     "user": {
      "displayName": "Mark Zhdan",
      "userId": "15470042796455103966"
     },
     "user_tz": 300
    },
    "id": "REQXdRZXlp1O"
   },
   "outputs": [],
   "source": [
    "# Load 2024 test data\n",
    "test_df = pd.read_csv('../../data/clean/complex/final/player_data_2024.csv')\n",
    "test_df['Year'] = 2024\n",
    "test_df['Score'] = 0  # Placeholder\n"
   ]
  },
  {
   "cell_type": "code",
   "execution_count": 132,
   "metadata": {
    "executionInfo": {
     "elapsed": 32,
     "status": "ok",
     "timestamp": 1746749749037,
     "user": {
      "displayName": "Mark Zhdan",
      "userId": "15470042796455103966"
     },
     "user_tz": 300
    },
    "id": "ViHfcgFZFrLP"
   },
   "outputs": [],
   "source": [
    "# Cell 3 - Normalize and align rating columns\n",
    "def unify_rating_columns(df):\n",
    "    if 'rating_2.1' in df.columns:\n",
    "        df['rating'] = df['rating_2.1']\n",
    "    elif 'rating_2.0' in df.columns:\n",
    "        df['rating'] = df['rating_2.0']\n",
    "    elif 'rating_1.0' in df.columns:\n",
    "        df['rating'] = df['rating_1.0']\n",
    "    else:\n",
    "        df['rating'] = np.nan\n",
    "    for col in ['rating_2.1', 'rating_2.0', 'rating_1.0']:\n",
    "        if col in df.columns:\n",
    "            df.drop(columns=col, inplace=True)\n",
    "    return df\n",
    "\n",
    "train_df = unify_rating_columns(train_df)\n",
    "test_df = unify_rating_columns(test_df)\n",
    "\n",
    "id_cols = ['Player', 'HLTV_ID', 'Rank', 'Year']\n",
    "feature_cols = [col for col in train_df.columns if col not in id_cols + ['Score']]\n",
    "shared_cols = list(set(feature_cols) & set(test_df.columns))\n",
    "\n",
    "train_df[shared_cols] = train_df[shared_cols].replace(-1.0, np.nan).fillna(train_df[shared_cols].mean())\n",
    "test_df[shared_cols] = test_df[shared_cols].replace(-1.0, np.nan).fillna(train_df[shared_cols].mean())\n"
   ]
  },
  {
   "cell_type": "code",
   "execution_count": null,
   "metadata": {
    "executionInfo": {
     "elapsed": 78,
     "status": "ok",
     "timestamp": 1746749750940,
     "user": {
      "displayName": "Mark Zhdan",
      "userId": "15470042796455103966"
     },
     "user_tz": 300
    },
    "id": "PfIBaDook6yb"
   },
   "outputs": [
    {
     "name": "stdout",
     "output_type": "stream",
     "text": [
      "Top features: ['b_vs_top30', 'k_per_d_ratio', 'MVPs', 'b_dpr', 'b_damage__per__round', 'kast', 'b_kast', 'b_vs_top10', 'vs_top30', 'rating', 'b_adr', 'b_rating', 'vs_top10', 'EVPs', 'b_kpr', 'impact', 'b_vs_top20', 'dpr', 'deaths__per__round', 'damage__per__round', 'm_damage__per__round', 'b_vs_top5', 'total_kills', 'b_impact', 'kills__per__round', 'b_k_per_d_ratio', 'vs_top20', 'vs_top5', 'adr', 'kpr']\n"
     ]
    }
   ],
   "source": [
    "# Preprocess\n",
    "\n",
    "# Cell 4 - Scaling and SelectKBest\n",
    "scaler = StandardScaler()\n",
    "X_train = scaler.fit_transform(train_df[shared_cols])\n",
    "y_train = train_df['Score'].values\n",
    "X_test = scaler.transform(test_df[shared_cols])\n",
    "\n",
    "# Select top 50 correlated features\n",
    "selector = SelectKBest(score_func=f_regression, k=50)\n",
    "X_train_selected = selector.fit_transform(X_train, y_train)\n",
    "X_test_selected = selector.transform(X_test)\n",
    "\n",
    "selected_feature_names = [shared_cols[i] for i in selector.get_support(indices=True)]\n",
    "print(f\"Top features: {selected_feature_names}\")\n",
    "\n"
   ]
  },
  {
   "cell_type": "code",
   "execution_count": 134,
   "metadata": {
    "colab": {
     "base_uri": "https://localhost:8080/"
    },
    "executionInfo": {
     "elapsed": 16,
     "status": "ok",
     "timestamp": 1746749752676,
     "user": {
      "displayName": "Mark Zhdan",
      "userId": "15470042796455103966"
     },
     "user_tz": 300
    },
    "id": "e_Q_itpRWhnV",
    "outputId": "67bbb6f2-5fa7-4bc2-8f4a-7707b17128c3"
   },
   "outputs": [
    {
     "name": "stdout",
     "output_type": "stream",
     "text": [
      "Fitting 5 folds for each of 36 candidates, totalling 180 fits\n",
      "[CV] END C=0.1, degree=2, epsilon=0.01, gamma=scale, kernel=rbf; total time=   0.0s\n",
      "[CV] END C=0.1, degree=2, epsilon=0.01, gamma=scale, kernel=rbf; total time=   0.0s\n",
      "[CV] END C=0.1, degree=2, epsilon=0.01, gamma=scale, kernel=rbf; total time=   0.0s\n",
      "[CV] END C=0.1, degree=2, epsilon=0.01, gamma=scale, kernel=rbf; total time=   0.0s\n",
      "[CV] END C=0.1, degree=2, epsilon=0.01, gamma=scale, kernel=rbf; total time=   0.0s\n",
      "[CV] END C=0.1, degree=2, epsilon=0.01, gamma=scale, kernel=poly; total time=   0.0s\n",
      "[CV] END C=0.1, degree=2, epsilon=0.01, gamma=scale, kernel=poly; total time=   0.0s\n",
      "[CV] END C=0.1, degree=2, epsilon=0.01, gamma=scale, kernel=poly; total time=   0.0s\n",
      "[CV] END C=0.1, degree=2, epsilon=0.01, gamma=scale, kernel=poly; total time=   0.0s\n",
      "[CV] END C=0.1, degree=2, epsilon=0.01, gamma=scale, kernel=poly; total time=   0.0s\n",
      "[CV] END C=0.1, degree=2, epsilon=0.1, gamma=scale, kernel=rbf; total time=   0.0s\n",
      "[CV] END C=0.1, degree=2, epsilon=0.1, gamma=scale, kernel=rbf; total time=   0.0s\n",
      "[CV] END C=0.1, degree=2, epsilon=0.1, gamma=scale, kernel=rbf; total time=   0.0s\n",
      "[CV] END C=0.1, degree=2, epsilon=0.1, gamma=scale, kernel=rbf; total time=   0.0s\n",
      "[CV] END C=0.1, degree=2, epsilon=0.1, gamma=scale, kernel=rbf; total time=   0.0s\n",
      "[CV] END C=0.1, degree=2, epsilon=0.1, gamma=scale, kernel=poly; total time=   0.0s\n",
      "[CV] END C=0.1, degree=2, epsilon=0.1, gamma=scale, kernel=poly; total time=   0.0s\n",
      "[CV] END C=0.1, degree=2, epsilon=0.1, gamma=scale, kernel=poly; total time=   0.0s\n",
      "[CV] END C=0.1, degree=2, epsilon=0.1, gamma=scale, kernel=poly; total time=   0.0s\n",
      "[CV] END C=0.1, degree=2, epsilon=0.1, gamma=scale, kernel=poly; total time=   0.0s\n",
      "[CV] END C=0.1, degree=2, epsilon=0.5, gamma=scale, kernel=rbf; total time=   0.0s\n",
      "[CV] END C=0.1, degree=2, epsilon=0.5, gamma=scale, kernel=rbf; total time=   0.0s\n",
      "[CV] END C=0.1, degree=2, epsilon=0.5, gamma=scale, kernel=rbf; total time=   0.0s\n",
      "[CV] END C=0.1, degree=2, epsilon=0.5, gamma=scale, kernel=rbf; total time=   0.0s\n",
      "[CV] END C=0.1, degree=2, epsilon=0.5, gamma=scale, kernel=rbf; total time=   0.0s\n",
      "[CV] END C=0.1, degree=2, epsilon=0.5, gamma=scale, kernel=poly; total time=   0.0s\n",
      "[CV] END C=0.1, degree=2, epsilon=0.5, gamma=scale, kernel=poly; total time=   0.0s\n",
      "[CV] END C=0.1, degree=2, epsilon=0.5, gamma=scale, kernel=poly; total time=   0.0s\n",
      "[CV] END C=0.1, degree=3, epsilon=0.01, gamma=scale, kernel=rbf; total time=   0.0s\n",
      "[CV] END C=0.1, degree=3, epsilon=0.01, gamma=scale, kernel=rbf; total time=   0.0s\n",
      "[CV] END C=0.1, degree=3, epsilon=0.01, gamma=scale, kernel=poly; total time=   0.0s\n",
      "[CV] END C=0.1, degree=3, epsilon=0.01, gamma=scale, kernel=rbf; total time=   0.0s\n",
      "[CV] END C=0.1, degree=2, epsilon=0.5, gamma=scale, kernel=poly; total time=   0.0s\n",
      "[CV] END C=0.1, degree=3, epsilon=0.01, gamma=scale, kernel=poly; total time=   0.0s\n",
      "[CV] END C=0.1, degree=3, epsilon=0.01, gamma=scale, kernel=poly; total time=   0.0s\n",
      "[CV] END C=0.1, degree=3, epsilon=0.01, gamma=scale, kernel=poly; total time=   0.0s\n",
      "[CV] END C=0.1, degree=3, epsilon=0.01, gamma=scale, kernel=poly; total time=   0.0s\n",
      "[CV] END C=0.1, degree=2, epsilon=0.5, gamma=scale, kernel=poly; total time=   0.0s\n",
      "[CV] END C=0.1, degree=3, epsilon=0.1, gamma=scale, kernel=rbf; total time=   0.0s\n",
      "[CV] END C=0.1, degree=3, epsilon=0.1, gamma=scale, kernel=rbf; total time=   0.0s\n",
      "[CV] END C=0.1, degree=3, epsilon=0.01, gamma=scale, kernel=rbf; total time=   0.0s\n",
      "[CV] END C=0.1, degree=3, epsilon=0.01, gamma=scale, kernel=rbf; total time=   0.0s\n",
      "[CV] END C=0.1, degree=3, epsilon=0.1, gamma=scale, kernel=rbf; total time=   0.0s\n",
      "[CV] END C=0.1, degree=3, epsilon=0.1, gamma=scale, kernel=rbf; total time=   0.0s\n",
      "[CV] END C=0.1, degree=3, epsilon=0.1, gamma=scale, kernel=poly; total time=   0.0s\n",
      "[CV] END C=0.1, degree=3, epsilon=0.1, gamma=scale, kernel=rbf; total time=   0.0s\n",
      "[CV] END C=0.1, degree=3, epsilon=0.1, gamma=scale, kernel=poly; total time=   0.0s\n",
      "[CV] END C=0.1, degree=3, epsilon=0.1, gamma=scale, kernel=poly; total time=   0.0s\n",
      "[CV] END C=0.1, degree=3, epsilon=0.1, gamma=scale, kernel=poly; total time=   0.0s\n",
      "[CV] END C=0.1, degree=3, epsilon=0.1, gamma=scale, kernel=poly; total time=   0.0s\n",
      "[CV] END C=0.1, degree=3, epsilon=0.5, gamma=scale, kernel=poly; total time=   0.0s\n",
      "[CV] END C=0.1, degree=3, epsilon=0.5, gamma=scale, kernel=rbf; total time=   0.0s\n",
      "[CV] END C=0.1, degree=3, epsilon=0.5, gamma=scale, kernel=rbf; total time=   0.0s\n",
      "[CV] END C=0.1, degree=3, epsilon=0.5, gamma=scale, kernel=poly; total time=   0.0s\n",
      "[CV] END C=1, degree=2, epsilon=0.01, gamma=scale, kernel=rbf; total time=   0.0s\n",
      "[CV] END C=0.1, degree=3, epsilon=0.5, gamma=scale, kernel=poly; total time=   0.0s\n",
      "[CV] END C=1, degree=2, epsilon=0.01, gamma=scale, kernel=rbf; total time=   0.0s\n",
      "[CV] END C=0.1, degree=3, epsilon=0.5, gamma=scale, kernel=poly; total time=   0.0s\n",
      "[CV] END C=1, degree=2, epsilon=0.01, gamma=scale, kernel=rbf; total time=   0.0s\n",
      "[CV] END C=0.1, degree=3, epsilon=0.5, gamma=scale, kernel=rbf; total time=   0.0s\n",
      "[CV] END C=1, degree=2, epsilon=0.01, gamma=scale, kernel=poly; total time=   0.0s\n",
      "[CV] END C=1, degree=2, epsilon=0.01, gamma=scale, kernel=rbf; total time=   0.0s\n",
      "[CV] END C=1, degree=2, epsilon=0.01, gamma=scale, kernel=rbf; total time=   0.0s\n",
      "[CV] END C=0.1, degree=3, epsilon=0.5, gamma=scale, kernel=rbf; total time=   0.0s\n",
      "[CV] END C=1, degree=2, epsilon=0.01, gamma=scale, kernel=poly; total time=   0.0s\n",
      "[CV] END C=1, degree=2, epsilon=0.1, gamma=scale, kernel=poly; total time=   0.0s\n",
      "[CV] END C=0.1, degree=3, epsilon=0.5, gamma=scale, kernel=rbf; total time=   0.0s\n",
      "[CV] END C=1, degree=2, epsilon=0.1, gamma=scale, kernel=poly; total time=   0.0s\n",
      "[CV] END C=1, degree=2, epsilon=0.1, gamma=scale, kernel=rbf; total time=   0.0s\n",
      "[CV] END C=0.1, degree=3, epsilon=0.5, gamma=scale, kernel=poly; total time=   0.0s\n",
      "[CV] END C=1, degree=2, epsilon=0.01, gamma=scale, kernel=poly; total time=   0.0s\n",
      "[CV] END C=1, degree=2, epsilon=0.1, gamma=scale, kernel=poly; total time=   0.0s\n",
      "[CV] END C=1, degree=2, epsilon=0.5, gamma=scale, kernel=rbf; total time=   0.0s\n",
      "[CV] END C=1, degree=2, epsilon=0.1, gamma=scale, kernel=poly; total time=   0.0s\n",
      "[CV] END C=1, degree=2, epsilon=0.1, gamma=scale, kernel=rbf; total time=   0.0s\n",
      "[CV] END C=1, degree=2, epsilon=0.01, gamma=scale, kernel=poly; total time=   0.0s\n",
      "[CV] END C=1, degree=2, epsilon=0.5, gamma=scale, kernel=rbf; total time=   0.0s\n",
      "[CV] END C=1, degree=2, epsilon=0.01, gamma=scale, kernel=poly; total time=   0.0s\n",
      "[CV] END C=1, degree=2, epsilon=0.5, gamma=scale, kernel=rbf; total time=   0.0s\n",
      "[CV] END C=1, degree=2, epsilon=0.1, gamma=scale, kernel=rbf; total time=   0.0s\n",
      "[CV] END C=1, degree=2, epsilon=0.5, gamma=scale, kernel=rbf; total time=   0.0s\n",
      "[CV] END C=1, degree=2, epsilon=0.5, gamma=scale, kernel=poly; total time=   0.0s\n",
      "[CV] END C=1, degree=2, epsilon=0.1, gamma=scale, kernel=rbf; total time=   0.0s\n",
      "[CV] END C=1, degree=2, epsilon=0.5, gamma=scale, kernel=rbf; total time=   0.0s\n",
      "[CV] END C=1, degree=2, epsilon=0.1, gamma=scale, kernel=rbf; total time=   0.0s\n",
      "[CV] END C=1, degree=2, epsilon=0.5, gamma=scale, kernel=poly; total time=   0.0s\n",
      "[CV] END C=1, degree=2, epsilon=0.5, gamma=scale, kernel=poly; total time=   0.0s\n",
      "[CV] END C=1, degree=2, epsilon=0.1, gamma=scale, kernel=poly; total time=   0.0s\n",
      "[CV] END C=1, degree=3, epsilon=0.01, gamma=scale, kernel=poly; total time=   0.0s\n",
      "[CV] END C=1, degree=2, epsilon=0.5, gamma=scale, kernel=poly; total time=   0.0s\n",
      "[CV] END C=1, degree=3, epsilon=0.01, gamma=scale, kernel=poly; total time=   0.0s\n",
      "[CV] END C=1, degree=3, epsilon=0.01, gamma=scale, kernel=rbf; total time=   0.0s\n",
      "[CV] END C=1, degree=2, epsilon=0.5, gamma=scale, kernel=poly; total time=   0.0s\n",
      "[CV] END C=1, degree=3, epsilon=0.01, gamma=scale, kernel=poly; total time=   0.0s\n",
      "[CV] END C=1, degree=3, epsilon=0.01, gamma=scale, kernel=rbf; total time=   0.0s\n",
      "[CV] END C=1, degree=3, epsilon=0.01, gamma=scale, kernel=rbf; total time=   0.0s\n",
      "[CV] END C=1, degree=3, epsilon=0.1, gamma=scale, kernel=rbf; total time=   0.0s\n",
      "[CV] END C=1, degree=3, epsilon=0.1, gamma=scale, kernel=poly; total time=   0.0s\n",
      "[CV] END C=1, degree=3, epsilon=0.01, gamma=scale, kernel=rbf; total time=   0.0s\n",
      "[CV] END C=1, degree=3, epsilon=0.01, gamma=scale, kernel=rbf; total time=   0.0s\n",
      "[CV] END C=1, degree=3, epsilon=0.01, gamma=scale, kernel=poly; total time=   0.0s\n",
      "[CV] END C=1, degree=3, epsilon=0.1, gamma=scale, kernel=poly; total time=   0.0s\n",
      "[CV] END C=1, degree=3, epsilon=0.01, gamma=scale, kernel=poly; total time=   0.0s\n",
      "[CV] END C=1, degree=3, epsilon=0.1, gamma=scale, kernel=poly; total time=   0.0s\n",
      "[CV] END C=1, degree=3, epsilon=0.5, gamma=scale, kernel=rbf; total time=   0.0s\n",
      "[CV] END C=10, degree=2, epsilon=0.01, gamma=scale, kernel=rbf; total time=   0.0s\n",
      "[CV] END C=1, degree=3, epsilon=0.5, gamma=scale, kernel=rbf; total time=   0.0s\n",
      "[CV] END C=10, degree=2, epsilon=0.1, gamma=scale, kernel=poly; total time=   0.0s\n",
      "[CV] END C=1, degree=3, epsilon=0.1, gamma=scale, kernel=poly; total time=   0.0s\n",
      "[CV] END C=10, degree=2, epsilon=0.1, gamma=scale, kernel=poly; total time=   0.0s\n",
      "[CV] END C=1, degree=3, epsilon=0.5, gamma=scale, kernel=rbf; total time=   0.0s\n",
      "[CV] END C=10, degree=2, epsilon=0.01, gamma=scale, kernel=rbf; total time=   0.0s\n",
      "[CV] END C=10, degree=2, epsilon=0.1, gamma=scale, kernel=poly; total time=   0.0s\n",
      "[CV] END C=10, degree=2, epsilon=0.01, gamma=scale, kernel=poly; total time=   0.0s\n",
      "[CV] END C=1, degree=3, epsilon=0.1, gamma=scale, kernel=poly; total time=   0.0s\n",
      "[CV] END C=1, degree=3, epsilon=0.5, gamma=scale, kernel=poly; total time=   0.0s\n",
      "[CV] END C=10, degree=2, epsilon=0.1, gamma=scale, kernel=poly; total time=   0.0s\n",
      "[CV] END C=10, degree=2, epsilon=0.01, gamma=scale, kernel=rbf; total time=   0.0s\n",
      "[CV] END C=1, degree=3, epsilon=0.5, gamma=scale, kernel=rbf; total time=   0.0s\n",
      "[CV] END C=10, degree=2, epsilon=0.01, gamma=scale, kernel=poly; total time=   0.0s\n",
      "[CV] END C=10, degree=2, epsilon=0.5, gamma=scale, kernel=rbf; total time=   0.0s\n",
      "[CV] END C=10, degree=2, epsilon=0.01, gamma=scale, kernel=rbf; total time=   0.0s\n",
      "[CV] END C=1, degree=3, epsilon=0.5, gamma=scale, kernel=rbf; total time=   0.0s\n",
      "[CV] END C=1, degree=3, epsilon=0.5, gamma=scale, kernel=poly; total time=   0.0s\n",
      "[CV] END C=10, degree=2, epsilon=0.1, gamma=scale, kernel=rbf; total time=   0.0s\n",
      "[CV] END C=10, degree=2, epsilon=0.5, gamma=scale, kernel=rbf; total time=   0.0s\n",
      "[CV] END C=1, degree=3, epsilon=0.5, gamma=scale, kernel=poly; total time=   0.0s\n",
      "[CV] END C=10, degree=2, epsilon=0.01, gamma=scale, kernel=rbf; total time=   0.0s\n",
      "[CV] END C=10, degree=2, epsilon=0.1, gamma=scale, kernel=rbf; total time=   0.0s\n",
      "[CV] END C=10, degree=2, epsilon=0.01, gamma=scale, kernel=poly; total time=   0.0s\n",
      "[CV] END C=10, degree=2, epsilon=0.5, gamma=scale, kernel=rbf; total time=   0.0s\n",
      "[CV] END C=1, degree=3, epsilon=0.5, gamma=scale, kernel=poly; total time=   0.0s\n",
      "[CV] END C=10, degree=2, epsilon=0.01, gamma=scale, kernel=poly; total time=   0.0s[CV] END C=10, degree=2, epsilon=0.1, gamma=scale, kernel=rbf; total time=   0.0s\n",
      "\n",
      "[CV] END C=10, degree=2, epsilon=0.5, gamma=scale, kernel=rbf; total time=   0.0s\n",
      "[CV] END C=1, degree=3, epsilon=0.5, gamma=scale, kernel=poly; total time=   0.0s\n",
      "[CV] END C=1, degree=3, epsilon=0.1, gamma=scale, kernel=rbf; total time=   0.0s\n",
      "[CV] END C=10, degree=2, epsilon=0.1, gamma=scale, kernel=rbf; total time=   0.0s\n",
      "[CV] END C=10, degree=2, epsilon=0.01, gamma=scale, kernel=poly; total time=   0.0s\n",
      "[CV] END C=10, degree=2, epsilon=0.1, gamma=scale, kernel=rbf; total time=   0.0s\n",
      "[CV] END C=10, degree=2, epsilon=0.5, gamma=scale, kernel=rbf; total time=   0.0s\n",
      "[CV] END C=1, degree=3, epsilon=0.1, gamma=scale, kernel=rbf; total time=   0.0s\n",
      "[CV] END C=10, degree=2, epsilon=0.1, gamma=scale, kernel=poly; total time=   0.0s\n",
      "[CV] END C=10, degree=2, epsilon=0.5, gamma=scale, kernel=poly; total time=   0.0s\n",
      "[CV] END C=10, degree=3, epsilon=0.1, gamma=scale, kernel=rbf; total time=   0.0s\n",
      "[CV] END C=10, degree=3, epsilon=0.5, gamma=scale, kernel=poly; total time=   0.0s\n",
      "[CV] END C=10, degree=3, epsilon=0.1, gamma=scale, kernel=rbf; total time=   0.0s\n",
      "[CV] END C=10, degree=3, epsilon=0.5, gamma=scale, kernel=poly; total time=   0.0s\n",
      "[CV] END C=10, degree=2, epsilon=0.5, gamma=scale, kernel=poly; total time=   0.0s\n",
      "[CV] END C=10, degree=3, epsilon=0.1, gamma=scale, kernel=rbf; total time=   0.0s\n",
      "[CV] END C=10, degree=3, epsilon=0.5, gamma=scale, kernel=poly; total time=   0.0s\n",
      "[CV] END C=10, degree=3, epsilon=0.1, gamma=scale, kernel=poly; total time=   0.0s\n",
      "[CV] END C=10, degree=2, epsilon=0.5, gamma=scale, kernel=poly; total time=   0.0s\n",
      "[CV] END C=1, degree=3, epsilon=0.1, gamma=scale, kernel=rbf; total time=   0.0s\n",
      "[CV] END C=10, degree=3, epsilon=0.5, gamma=scale, kernel=poly; total time=   0.0s\n",
      "[CV] END C=10, degree=3, epsilon=0.1, gamma=scale, kernel=rbf; total time=   0.0s\n",
      "[CV] END C=10, degree=2, epsilon=0.5, gamma=scale, kernel=poly; total time=   0.0s\n",
      "[CV] END C=10, degree=3, epsilon=0.1, gamma=scale, kernel=poly; total time=   0.0s\n",
      "[CV] END C=1, degree=3, epsilon=0.1, gamma=scale, kernel=rbf; total time=   0.0s\n",
      "[CV] END C=10, degree=3, epsilon=0.1, gamma=scale, kernel=rbf; total time=   0.0s\n",
      "[CV] END C=10, degree=2, epsilon=0.5, gamma=scale, kernel=poly; total time=   0.0s\n",
      "[CV] END C=10, degree=3, epsilon=0.5, gamma=scale, kernel=rbf; total time=   0.0s\n",
      "[CV] END C=10, degree=3, epsilon=0.1, gamma=scale, kernel=poly; total time=   0.0s\n",
      "[CV] END C=10, degree=3, epsilon=0.01, gamma=scale, kernel=rbf; total time=   0.0s\n",
      "[CV] END C=10, degree=3, epsilon=0.5, gamma=scale, kernel=rbf; total time=   0.0s\n",
      "[CV] END C=10, degree=3, epsilon=0.1, gamma=scale, kernel=poly; total time=   0.0s\n",
      "[CV] END C=10, degree=3, epsilon=0.01, gamma=scale, kernel=rbf; total time=   0.0s\n",
      "[CV] END C=10, degree=3, epsilon=0.5, gamma=scale, kernel=rbf; total time=   0.0s\n",
      "[CV] END C=10, degree=3, epsilon=0.5, gamma=scale, kernel=rbf; total time=   0.0s\n",
      "[CV] END C=10, degree=3, epsilon=0.1, gamma=scale, kernel=poly; total time=   0.0s\n",
      "[CV] END C=10, degree=3, epsilon=0.5, gamma=scale, kernel=rbf; total time=   0.0s\n",
      "[CV] END C=10, degree=3, epsilon=0.5, gamma=scale, kernel=poly; total time=   0.0s\n",
      "[CV] END C=10, degree=3, epsilon=0.01, gamma=scale, kernel=rbf; total time=   0.0s\n",
      "[CV] END C=10, degree=3, epsilon=0.01, gamma=scale, kernel=rbf; total time=   0.0s\n",
      "[CV] END C=10, degree=3, epsilon=0.01, gamma=scale, kernel=rbf; total time=   0.0s\n",
      "[CV] END C=10, degree=3, epsilon=0.01, gamma=scale, kernel=poly; total time=   0.0s\n",
      "[CV] END C=10, degree=3, epsilon=0.01, gamma=scale, kernel=poly; total time=   0.0s\n",
      "[CV] END C=10, degree=3, epsilon=0.01, gamma=scale, kernel=poly; total time=   0.0s\n",
      "[CV] END C=10, degree=3, epsilon=0.01, gamma=scale, kernel=poly; total time=   0.0s\n",
      "[CV] END C=10, degree=3, epsilon=0.01, gamma=scale, kernel=poly; total time=   0.0s\n",
      "🔍 Best params: {'C': 10, 'degree': 2, 'epsilon': 0.1, 'gamma': 'scale', 'kernel': 'rbf'}\n",
      "📉 Best CV MSE: 25.621971107516167\n"
     ]
    }
   ],
   "source": [
    "# Cell 5 - Grid search for best hyperparameters\n",
    "param_grid = {\n",
    "    'C': [0.1, 1, 10],\n",
    "    'epsilon': [0.01, 0.1, 0.5],\n",
    "    'kernel': ['rbf', 'poly'],\n",
    "    'degree': [2, 3],  # Only used for 'poly' kernel\n",
    "    'gamma': ['scale']\n",
    "}\n",
    "\n",
    "svr = SVR()\n",
    "grid = GridSearchCV(svr, param_grid, scoring='neg_mean_squared_error', cv=5, verbose=2, n_jobs=-1)\n",
    "grid.fit(X_train_selected, y_train)\n",
    "\n",
    "print(\"🔍 Best params:\", grid.best_params_)\n",
    "print(\"📉 Best CV MSE:\", -grid.best_score_)\n"
   ]
  },
  {
   "cell_type": "code",
   "execution_count": 135,
   "metadata": {
    "colab": {
     "base_uri": "https://localhost:8080/"
    },
    "executionInfo": {
     "elapsed": 1406,
     "status": "ok",
     "timestamp": 1746749759191,
     "user": {
      "displayName": "Mark Zhdan",
      "userId": "15470042796455103966"
     },
     "user_tz": 300
    },
    "id": "gXzSrUfKk9-m",
    "outputId": "6e9b6e26-c374-4d35-8bb4-09ad0ae362df"
   },
   "outputs": [
    {
     "data": {
      "text/html": [
       "<style>#sk-container-id-14 {color: black;}#sk-container-id-14 pre{padding: 0;}#sk-container-id-14 div.sk-toggleable {background-color: white;}#sk-container-id-14 label.sk-toggleable__label {cursor: pointer;display: block;width: 100%;margin-bottom: 0;padding: 0.3em;box-sizing: border-box;text-align: center;}#sk-container-id-14 label.sk-toggleable__label-arrow:before {content: \"▸\";float: left;margin-right: 0.25em;color: #696969;}#sk-container-id-14 label.sk-toggleable__label-arrow:hover:before {color: black;}#sk-container-id-14 div.sk-estimator:hover label.sk-toggleable__label-arrow:before {color: black;}#sk-container-id-14 div.sk-toggleable__content {max-height: 0;max-width: 0;overflow: hidden;text-align: left;background-color: #f0f8ff;}#sk-container-id-14 div.sk-toggleable__content pre {margin: 0.2em;color: black;border-radius: 0.25em;background-color: #f0f8ff;}#sk-container-id-14 input.sk-toggleable__control:checked~div.sk-toggleable__content {max-height: 200px;max-width: 100%;overflow: auto;}#sk-container-id-14 input.sk-toggleable__control:checked~label.sk-toggleable__label-arrow:before {content: \"▾\";}#sk-container-id-14 div.sk-estimator input.sk-toggleable__control:checked~label.sk-toggleable__label {background-color: #d4ebff;}#sk-container-id-14 div.sk-label input.sk-toggleable__control:checked~label.sk-toggleable__label {background-color: #d4ebff;}#sk-container-id-14 input.sk-hidden--visually {border: 0;clip: rect(1px 1px 1px 1px);clip: rect(1px, 1px, 1px, 1px);height: 1px;margin: -1px;overflow: hidden;padding: 0;position: absolute;width: 1px;}#sk-container-id-14 div.sk-estimator {font-family: monospace;background-color: #f0f8ff;border: 1px dotted black;border-radius: 0.25em;box-sizing: border-box;margin-bottom: 0.5em;}#sk-container-id-14 div.sk-estimator:hover {background-color: #d4ebff;}#sk-container-id-14 div.sk-parallel-item::after {content: \"\";width: 100%;border-bottom: 1px solid gray;flex-grow: 1;}#sk-container-id-14 div.sk-label:hover label.sk-toggleable__label {background-color: #d4ebff;}#sk-container-id-14 div.sk-serial::before {content: \"\";position: absolute;border-left: 1px solid gray;box-sizing: border-box;top: 0;bottom: 0;left: 50%;z-index: 0;}#sk-container-id-14 div.sk-serial {display: flex;flex-direction: column;align-items: center;background-color: white;padding-right: 0.2em;padding-left: 0.2em;position: relative;}#sk-container-id-14 div.sk-item {position: relative;z-index: 1;}#sk-container-id-14 div.sk-parallel {display: flex;align-items: stretch;justify-content: center;background-color: white;position: relative;}#sk-container-id-14 div.sk-item::before, #sk-container-id-14 div.sk-parallel-item::before {content: \"\";position: absolute;border-left: 1px solid gray;box-sizing: border-box;top: 0;bottom: 0;left: 50%;z-index: -1;}#sk-container-id-14 div.sk-parallel-item {display: flex;flex-direction: column;z-index: 1;position: relative;background-color: white;}#sk-container-id-14 div.sk-parallel-item:first-child::after {align-self: flex-end;width: 50%;}#sk-container-id-14 div.sk-parallel-item:last-child::after {align-self: flex-start;width: 50%;}#sk-container-id-14 div.sk-parallel-item:only-child::after {width: 0;}#sk-container-id-14 div.sk-dashed-wrapped {border: 1px dashed gray;margin: 0 0.4em 0.5em 0.4em;box-sizing: border-box;padding-bottom: 0.4em;background-color: white;}#sk-container-id-14 div.sk-label label {font-family: monospace;font-weight: bold;display: inline-block;line-height: 1.2em;}#sk-container-id-14 div.sk-label-container {text-align: center;}#sk-container-id-14 div.sk-container {/* jupyter's `normalize.less` sets `[hidden] { display: none; }` but bootstrap.min.css set `[hidden] { display: none !important; }` so we also need the `!important` here to be able to override the default hidden behavior on the sphinx rendered scikit-learn.org. See: https://github.com/scikit-learn/scikit-learn/issues/21755 */display: inline-block !important;position: relative;}#sk-container-id-14 div.sk-text-repr-fallback {display: none;}</style><div id=\"sk-container-id-14\" class=\"sk-top-container\"><div class=\"sk-text-repr-fallback\"><pre>SVR(C=10, degree=2)</pre><b>In a Jupyter environment, please rerun this cell to show the HTML representation or trust the notebook. <br />On GitHub, the HTML representation is unable to render, please try loading this page with nbviewer.org.</b></div><div class=\"sk-container\" hidden><div class=\"sk-item\"><div class=\"sk-estimator sk-toggleable\"><input class=\"sk-toggleable__control sk-hidden--visually\" id=\"sk-estimator-id-14\" type=\"checkbox\" checked><label for=\"sk-estimator-id-14\" class=\"sk-toggleable__label sk-toggleable__label-arrow\">SVR</label><div class=\"sk-toggleable__content\"><pre>SVR(C=10, degree=2)</pre></div></div></div></div></div>"
      ],
      "text/plain": [
       "SVR(C=10, degree=2)"
      ]
     },
     "execution_count": 135,
     "metadata": {},
     "output_type": "execute_result"
    }
   ],
   "source": [
    "# Cell 6 - Final training using best model\n",
    "best_model = grid.best_estimator_\n",
    "best_model.fit(X_train_selected, y_train)\n"
   ]
  },
  {
   "cell_type": "markdown",
   "metadata": {
    "id": "g02MBu7XlAVx"
   },
   "source": [
    "Training Loop"
   ]
  },
  {
   "cell_type": "code",
   "execution_count": 136,
   "metadata": {
    "colab": {
     "base_uri": "https://localhost:8080/",
     "height": 80
    },
    "executionInfo": {
     "elapsed": 70,
     "status": "ok",
     "timestamp": 1746749763637,
     "user": {
      "displayName": "Mark Zhdan",
      "userId": "15470042796455103966"
     },
     "user_tz": 300
    },
    "id": "npJCBJ7Kk-kM",
    "outputId": "1e8bc4f6-13a1-46e0-8141-547b562c9ece"
   },
   "outputs": [
    {
     "name": "stdout",
     "output_type": "stream",
     "text": [
      "\n",
      "🏆 Top 20 Predicted Players for 2024:\n",
      "       Player  PredictedScore\n",
      "1      m0NESY      101.047493\n",
      "2       ZywOo       97.129423\n",
      "3        NiKo       94.322286\n",
      "14   XANTARES       94.150569\n",
      "0        donk       93.356889\n",
      "4          jL       91.482947\n",
      "5       sh1ro       91.397976\n",
      "6      flameZ       90.666063\n",
      "11    malbsMd       90.378172\n",
      "18      EliGE       90.326273\n",
      "7       broky       87.259314\n",
      "8         b1t       86.044320\n",
      "9      frozen       85.991624\n",
      "12      Spinx       85.786595\n",
      "13    xertioN       84.915578\n",
      "16   Jimpphat       84.739577\n",
      "20      NertZ       84.288081\n",
      "10  w0nderful       82.866296\n",
      "24     zont1x       82.708681\n",
      "27      Senzu       82.518967\n"
     ]
    }
   ],
   "source": [
    "# Cell 7 - Predict and rank 2024\n",
    "preds_2024 = best_model.predict(X_test_selected)\n",
    "test_df['PredictedScore'] = preds_2024\n",
    "top_20_2024 = test_df.sort_values(by='PredictedScore', ascending=False).head(20)\n",
    "\n",
    "print(\"\\n🏆 Top 20 Predicted Players for 2024:\")\n",
    "print(top_20_2024[['Player', 'PredictedScore']])\n"
   ]
  },
  {
   "cell_type": "code",
   "execution_count": 137,
   "metadata": {
    "executionInfo": {
     "elapsed": 51,
     "status": "ok",
     "timestamp": 1746749784149,
     "user": {
      "displayName": "Mark Zhdan",
      "userId": "15470042796455103966"
     },
     "user_tz": 300
    },
    "id": "eo9eF1funmcn"
   },
   "outputs": [],
   "source": [
    "# Load actual HLTV 2024 rankings\n",
    "actual_df = pd.read_csv('../../rankings/ranking_2024.csv')\n",
    "\n",
    "# Normalize nicknames in both DataFrames (for easier comparison)\n",
    "def normalize(name):\n",
    "    return name.strip().lower().replace(\"⁠\", \"\").replace(\"’\", \"'\").replace(\"`\", \"'\")\n",
    "\n",
    "actual_df['Nickname'] = actual_df['Nickname'].apply(normalize)\n",
    "top_20_2024['Player'] = top_20_2024['Player'].apply(normalize)\n",
    "\n",
    "# Map: nickname -> actual rank\n",
    "actual_ranks = {row['Nickname']: row['Rank'] for _, row in actual_df.iterrows()}\n",
    "\n",
    "# Evaluation function\n",
    "def score_ranking(pred_df, actual_rank_dict):\n",
    "    score = 0\n",
    "    graded = []\n",
    "\n",
    "    for pred_rank, row in enumerate(pred_df['Player'].values, 1):\n",
    "        actual_rank = actual_rank_dict.get(row)\n",
    "\n",
    "        if actual_rank:\n",
    "            diff = abs(actual_rank - pred_rank)\n",
    "            if diff == 0:\n",
    "                pts = 5\n",
    "            elif diff == 1:\n",
    "                pts = 4\n",
    "            elif diff == 2:\n",
    "                pts = 3\n",
    "            elif diff == 3:\n",
    "                pts = 2\n",
    "            elif diff <= 5:\n",
    "                pts = 1\n",
    "            else:\n",
    "                pts = 0\n",
    "        else:\n",
    "            pts = 0\n",
    "\n",
    "        graded.append((pred_rank, row, actual_rank, pts))\n",
    "        score += pts\n",
    "\n",
    "    return score, graded\n"
   ]
  },
  {
   "cell_type": "code",
   "execution_count": 138,
   "metadata": {
    "colab": {
     "base_uri": "https://localhost:8080/"
    },
    "executionInfo": {
     "elapsed": 16,
     "status": "ok",
     "timestamp": 1746749788382,
     "user": {
      "displayName": "Mark Zhdan",
      "userId": "15470042796455103966"
     },
     "user_tz": 300
    },
    "id": "GUzSAZJMZonm",
    "outputId": "b658c67e-a3b5-4a8c-a7e4-bcf1d5eed4e7"
   },
   "outputs": [
    {
     "name": "stdout",
     "output_type": "stream",
     "text": [
      "🏆 Total Ranking Score: 46/100\n",
      "\n",
      "🔍 Breakdown:\n",
      "Predicted # 1: m0nesy          | Actual: 2  | +4 pts\n",
      "Predicted # 2: zywoo           | Actual: 3  | +4 pts\n",
      "Predicted # 3: niko            | Actual: 4  | +4 pts\n",
      "Predicted # 4: xantares        | Actual: 15 | +0 pts\n",
      "Predicted # 5: donk            | Actual: 1  | +1 pts\n",
      "Predicted # 6: jl              | Actual: 5  | +4 pts\n",
      "Predicted # 7: sh1ro           | Actual: 6  | +4 pts\n",
      "Predicted # 8: flamez          | Actual: 7  | +4 pts\n",
      "Predicted # 9: malbsmd         | Actual: 12 | +2 pts\n",
      "Predicted #10: elige           | Actual: 19 | +0 pts\n",
      "Predicted #11: broky           | Actual: 8  | +2 pts\n",
      "Predicted #12: b1t             | Actual: 9  | +2 pts\n",
      "Predicted #13: frozen          | Actual: 10 | +2 pts\n",
      "Predicted #14: spinx           | Actual: 13 | +4 pts\n",
      "Predicted #15: xertion         | Actual: 14 | +4 pts\n",
      "Predicted #16: jimpphat        | Actual: 17 | +4 pts\n",
      "Predicted #17: nertz           | Actual: 21 | +1 pts\n",
      "Predicted #18: w0nderful       | Actual: 11 | +0 pts\n",
      "Predicted #19: zont1x          | Actual: 25 | +0 pts\n",
      "Predicted #20: senzu           | Actual: 28 | +0 pts\n"
     ]
    }
   ],
   "source": [
    "# Run scoring\n",
    "total_score, breakdown = score_ranking(top_20_2024, actual_ranks)\n",
    "\n",
    "# Display summary\n",
    "print(f\"🏆 Total Ranking Score: {total_score}/100\\n\")\n",
    "print(\"🔍 Breakdown:\")\n",
    "for pred_rank, nickname, actual_rank, pts in breakdown:\n",
    "    print(f\"Predicted #{pred_rank:>2}: {nickname:<15} | Actual: {actual_rank if actual_rank else 'N/A':<2} | +{pts} pts\")"
   ]
  }
 ],
 "metadata": {
  "accelerator": "GPU",
  "colab": {
   "authorship_tag": "ABX9TyMAmyZ5AgZuDh9oWLgnZCU4",
   "gpuType": "T4",
   "provenance": []
  },
  "kernelspec": {
   "display_name": "Python 3",
   "name": "python3"
  },
  "language_info": {
   "codemirror_mode": {
    "name": "ipython",
    "version": 3
   },
   "file_extension": ".py",
   "mimetype": "text/x-python",
   "name": "python",
   "nbconvert_exporter": "python",
   "pygments_lexer": "ipython3",
   "version": "3.11.3"
  }
 },
 "nbformat": 4,
 "nbformat_minor": 0
}
