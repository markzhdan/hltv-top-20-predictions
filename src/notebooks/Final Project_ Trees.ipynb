{
 "cells": [
  {
   "cell_type": "code",
   "execution_count": 45,
   "metadata": {
    "colab": {
     "base_uri": "https://localhost:8080/"
    },
    "executionInfo": {
     "elapsed": 444,
     "status": "ok",
     "timestamp": 1746765719858,
     "user": {
      "displayName": "Mark Zhdan",
      "userId": "15470042796455103966"
     },
     "user_tz": 300
    },
    "id": "6xnQZTgqUdfY",
    "outputId": "49e5ec11-500d-4b0a-c4a1-d10b8998ecf8"
   },
   "outputs": [],
   "source": [
    "import numpy as np\n",
    "import pandas as pd\n",
    "from sklearn.preprocessing import StandardScaler\n",
    "from sklearn.model_selection import KFold\n",
    "from sklearn.metrics import mean_squared_error\n"
   ]
  },
  {
   "cell_type": "code",
   "execution_count": 46,
   "metadata": {
    "executionInfo": {
     "elapsed": 3,
     "status": "ok",
     "timestamp": 1746765719860,
     "user": {
      "displayName": "Mark Zhdan",
      "userId": "15470042796455103966"
     },
     "user_tz": 300
    },
    "id": "PL-fpMzbUhR7"
   },
   "outputs": [],
   "source": [
    "# Cell 2 - TreeNode definition for regression\n",
    "class TreeNode:\n",
    "    def __init__(self, feature_index=None, threshold=None, left=None, right=None, *, value=None):\n",
    "        self.feature_index = feature_index  # which feature to split on\n",
    "        self.threshold = threshold  # value to compare against\n",
    "        self.left = left  # left subtree\n",
    "        self.right = right  # right subtree\n",
    "        self.value = value  # predicted value if leaf\n",
    "\n",
    "    def is_leaf(self):\n",
    "        return self.value is not None\n"
   ]
  },
  {
   "cell_type": "code",
   "execution_count": 47,
   "metadata": {
    "executionInfo": {
     "elapsed": 12,
     "status": "ok",
     "timestamp": 1746765719875,
     "user": {
      "displayName": "Mark Zhdan",
      "userId": "15470042796455103966"
     },
     "user_tz": 300
    },
    "id": "1UC_2TGmUh03"
   },
   "outputs": [],
   "source": [
    "# Cell 3 - Enhanced variance reduction with midpoint splits + gain\n",
    "def variance_mse(y):\n",
    "    return np.var(y) * len(y)\n",
    "\n",
    "def best_split(X, y):\n",
    "    m, n = X.shape\n",
    "    best_feat, best_thresh, best_gain = None, None, -np.inf\n",
    "    base_mse = variance_mse(y)\n",
    "\n",
    "    for feature_index in range(n):\n",
    "        values = np.sort(np.unique(X[:, feature_index]))\n",
    "        thresholds = (values[:-1] + values[1:]) / 2  # Use midpoints\n",
    "\n",
    "        for threshold in thresholds:\n",
    "            left_idx = X[:, feature_index] <= threshold\n",
    "            right_idx = ~left_idx\n",
    "\n",
    "            if len(y[left_idx]) < 2 or len(y[right_idx]) < 2:\n",
    "                continue\n",
    "\n",
    "            left_mse = variance_mse(y[left_idx])\n",
    "            right_mse = variance_mse(y[right_idx])\n",
    "            weighted_mse = (left_mse + right_mse) / m\n",
    "            gain = base_mse - weighted_mse\n",
    "\n",
    "            if gain > best_gain:\n",
    "                best_gain = gain\n",
    "                best_feat = feature_index\n",
    "                best_thresh = threshold\n",
    "\n",
    "    return best_feat, best_thresh\n"
   ]
  },
  {
   "cell_type": "code",
   "execution_count": 48,
   "metadata": {
    "executionInfo": {
     "elapsed": 5,
     "status": "ok",
     "timestamp": 1746765719882,
     "user": {
      "displayName": "Mark Zhdan",
      "userId": "15470042796455103966"
     },
     "user_tz": 300
    },
    "id": "O47599z4Ui5z"
   },
   "outputs": [],
   "source": [
    "# Cell 4 - TreeRegressor class with build logic\n",
    "class DecisionTreeRegressor:\n",
    "    def __init__(self, max_depth=12, min_samples_split=3):\n",
    "        self.max_depth = max_depth\n",
    "        self.min_samples_split = min_samples_split\n",
    "        self.root = None\n",
    "\n",
    "    def fit(self, X, y):\n",
    "        self.root = self._build_tree(X, y)\n",
    "\n",
    "    def _build_tree(self, X, y, depth=0):\n",
    "        num_samples, num_features = X.shape\n",
    "        if depth >= self.max_depth or num_samples < self.min_samples_split:\n",
    "            noise = np.random.normal(0, 0.005)\n",
    "            return TreeNode(value=np.mean(y) + noise)\n",
    "\n",
    "        feat_idx, threshold = best_split(X, y)\n",
    "        if feat_idx is None:\n",
    "            return TreeNode(value=np.mean(y))\n",
    "\n",
    "        left_idx = X[:, feat_idx] <= threshold\n",
    "        right_idx = ~left_idx\n",
    "\n",
    "        left = self._build_tree(X[left_idx], y[left_idx], depth + 1)\n",
    "        right = self._build_tree(X[right_idx], y[right_idx], depth + 1)\n",
    "\n",
    "        return TreeNode(feature_index=feat_idx, threshold=threshold, left=left, right=right)\n",
    "\n",
    "    def predict_one(self, x, node):\n",
    "        if node.is_leaf():\n",
    "            return node.value\n",
    "        if x[node.feature_index] <= node.threshold:\n",
    "            return self.predict_one(x, node.left)\n",
    "        else:\n",
    "            return self.predict_one(x, node.right)\n",
    "\n",
    "    def predict(self, X):\n",
    "        return np.array([self.predict_one(row, self.root) for row in X])\n"
   ]
  },
  {
   "cell_type": "code",
   "execution_count": 49,
   "metadata": {
    "executionInfo": {
     "elapsed": 200,
     "status": "ok",
     "timestamp": 1746765720089,
     "user": {
      "displayName": "Mark Zhdan",
      "userId": "15470042796455103966"
     },
     "user_tz": 300
    },
    "id": "eN80dZe2UkFI"
   },
   "outputs": [],
   "source": [
    "# Cell 5 - Load training data (2018-2023), test on 2024\n",
    "years = range(2018, 2024)\n",
    "dfs = []\n",
    "path = '../../data/clean/complex/final/player_data_{}.csv'\n",
    "for year in years:\n",
    "    df = pd.read_csv(path.format(year))\n",
    "    df['Year'] = year\n",
    "    df['Score'] = 101 - df['Rank']\n",
    "    dfs.append(df)\n",
    "train_df = pd.concat(dfs, ignore_index=True)\n",
    "\n",
    "test_df = pd.read_csv('../../data/clean/complex/final/player_data_2024.csv')\n",
    "test_df['Year'] = 2024\n",
    "test_df['Score'] = 0\n",
    "\n",
    "# Rating fix\n",
    "def unify_rating_columns(df):\n",
    "    if 'rating_2.1' in df.columns:\n",
    "        df['rating'] = df['rating_2.1']\n",
    "    elif 'rating_2.0' in df.columns:\n",
    "        df['rating'] = df['rating_2.0']\n",
    "    elif 'rating_1.0' in df.columns:\n",
    "        df['rating'] = df['rating_1.0']\n",
    "    else:\n",
    "        df['rating'] = np.nan\n",
    "    for col in ['rating_2.1', 'rating_2.0', 'rating_1.0']:\n",
    "        if col in df.columns:\n",
    "            df.drop(columns=col, inplace=True)\n",
    "    return df\n",
    "\n",
    "train_df = unify_rating_columns(train_df)\n",
    "test_df = unify_rating_columns(test_df)\n",
    "\n",
    "id_cols = ['Player', 'HLTV_ID', 'Rank', 'Year']\n",
    "feature_cols = [col for col in train_df.columns if col not in id_cols + ['Score']]\n",
    "shared_cols = list(set(feature_cols) & set(test_df.columns))\n",
    "\n",
    "train_df[shared_cols] = train_df[shared_cols].replace(-1.0, np.nan).fillna(train_df[shared_cols].mean())\n",
    "test_df[shared_cols] = test_df[shared_cols].replace(-1.0, np.nan).fillna(train_df[shared_cols].mean())\n",
    "\n",
    "scaler = StandardScaler()\n",
    "X_train = scaler.fit_transform(train_df[shared_cols])\n",
    "y_train = train_df['Score'].values\n",
    "X_test = scaler.transform(test_df[shared_cols])\n"
   ]
  },
  {
   "cell_type": "code",
   "execution_count": 50,
   "metadata": {
    "colab": {
     "base_uri": "https://localhost:8080/"
    },
    "executionInfo": {
     "elapsed": 14076,
     "status": "ok",
     "timestamp": 1746765924112,
     "user": {
      "displayName": "Mark Zhdan",
      "userId": "15470042796455103966"
     },
     "user_tz": 300
    },
    "id": "34mb4aPYUlc7",
    "outputId": "a0c33e9a-8ca3-423f-b5de-74ea26d6bc2f"
   },
   "outputs": [
    {
     "name": "stdout",
     "output_type": "stream",
     "text": [
      "Fold 1: MSE = 24.7680\n",
      "Fold 2: MSE = 42.4748\n",
      "Fold 3: MSE = 32.3203\n",
      "Fold 4: MSE = 25.0050\n",
      "Fold 5: MSE = 24.1403\n",
      "Fold 6: MSE = 30.4860\n",
      "Fold 7: MSE = 69.0568\n",
      "Fold 8: MSE = 51.5854\n",
      "Average CV MSE: 37.4796\n"
     ]
    }
   ],
   "source": [
    "# Cell 6 - Cross-validation to evaluate custom tree\n",
    "kf = KFold(n_splits=8, shuffle=True, random_state=42)\n",
    "mse_scores = []\n",
    "\n",
    "for fold, (train_idx, val_idx) in enumerate(kf.split(X_train)):\n",
    "    X_tr, X_val = X_train[train_idx], X_train[val_idx]\n",
    "    y_tr, y_val = y_train[train_idx], y_train[val_idx]\n",
    "\n",
    "    model = DecisionTreeRegressor(max_depth=8, min_samples_split=10)\n",
    "    model.fit(X_tr, y_tr)\n",
    "    preds = model.predict(X_val)\n",
    "\n",
    "    mse = mean_squared_error(y_val, preds)\n",
    "    mse_scores.append(mse)\n",
    "    print(f\"Fold {fold+1}: MSE = {mse:.4f}\")\n",
    "\n",
    "print(f\"Average CV MSE: {np.mean(mse_scores):.4f}\")\n"
   ]
  },
  {
   "cell_type": "code",
   "execution_count": 51,
   "metadata": {
    "colab": {
     "base_uri": "https://localhost:8080/",
     "height": 677
    },
    "executionInfo": {
     "elapsed": 1384,
     "status": "ok",
     "timestamp": 1746765928098,
     "user": {
      "displayName": "Mark Zhdan",
      "userId": "15470042796455103966"
     },
     "user_tz": 300
    },
    "id": "WhyE0PNUUnE0",
    "outputId": "2fbd2fcb-5bbf-4623-dc4b-5ef419686f0b"
   },
   "outputs": [
    {
     "data": {
      "text/html": [
       "<div>\n",
       "<style scoped>\n",
       "    .dataframe tbody tr th:only-of-type {\n",
       "        vertical-align: middle;\n",
       "    }\n",
       "\n",
       "    .dataframe tbody tr th {\n",
       "        vertical-align: top;\n",
       "    }\n",
       "\n",
       "    .dataframe thead th {\n",
       "        text-align: right;\n",
       "    }\n",
       "</style>\n",
       "<table border=\"1\" class=\"dataframe\">\n",
       "  <thead>\n",
       "    <tr style=\"text-align: right;\">\n",
       "      <th></th>\n",
       "      <th>Player</th>\n",
       "      <th>PredictedScore</th>\n",
       "    </tr>\n",
       "  </thead>\n",
       "  <tbody>\n",
       "    <tr>\n",
       "      <th>0</th>\n",
       "      <td>donk</td>\n",
       "      <td>100.003545</td>\n",
       "    </tr>\n",
       "    <tr>\n",
       "      <th>2</th>\n",
       "      <td>ZywOo</td>\n",
       "      <td>99.251324</td>\n",
       "    </tr>\n",
       "    <tr>\n",
       "      <th>1</th>\n",
       "      <td>m0NESY</td>\n",
       "      <td>99.251324</td>\n",
       "    </tr>\n",
       "    <tr>\n",
       "      <th>3</th>\n",
       "      <td>NiKo</td>\n",
       "      <td>97.003255</td>\n",
       "    </tr>\n",
       "    <tr>\n",
       "      <th>14</th>\n",
       "      <td>XANTARES</td>\n",
       "      <td>97.003255</td>\n",
       "    </tr>\n",
       "    <tr>\n",
       "      <th>11</th>\n",
       "      <td>malbsMd</td>\n",
       "      <td>94.288371</td>\n",
       "    </tr>\n",
       "    <tr>\n",
       "      <th>5</th>\n",
       "      <td>sh1ro</td>\n",
       "      <td>91.848263</td>\n",
       "    </tr>\n",
       "    <tr>\n",
       "      <th>20</th>\n",
       "      <td>NertZ</td>\n",
       "      <td>90.834600</td>\n",
       "    </tr>\n",
       "    <tr>\n",
       "      <th>7</th>\n",
       "      <td>broky</td>\n",
       "      <td>88.999360</td>\n",
       "    </tr>\n",
       "    <tr>\n",
       "      <th>10</th>\n",
       "      <td>w0nderful</td>\n",
       "      <td>87.498411</td>\n",
       "    </tr>\n",
       "    <tr>\n",
       "      <th>8</th>\n",
       "      <td>b1t</td>\n",
       "      <td>87.498411</td>\n",
       "    </tr>\n",
       "    <tr>\n",
       "      <th>4</th>\n",
       "      <td>jL</td>\n",
       "      <td>87.498411</td>\n",
       "    </tr>\n",
       "    <tr>\n",
       "      <th>6</th>\n",
       "      <td>flameZ</td>\n",
       "      <td>84.996217</td>\n",
       "    </tr>\n",
       "    <tr>\n",
       "      <th>18</th>\n",
       "      <td>EliGE</td>\n",
       "      <td>84.996217</td>\n",
       "    </tr>\n",
       "    <tr>\n",
       "      <th>9</th>\n",
       "      <td>frozen</td>\n",
       "      <td>84.750323</td>\n",
       "    </tr>\n",
       "    <tr>\n",
       "      <th>17</th>\n",
       "      <td>ropz</td>\n",
       "      <td>82.332522</td>\n",
       "    </tr>\n",
       "    <tr>\n",
       "      <th>21</th>\n",
       "      <td>Brollan</td>\n",
       "      <td>80.994273</td>\n",
       "    </tr>\n",
       "    <tr>\n",
       "      <th>15</th>\n",
       "      <td>iM</td>\n",
       "      <td>80.994273</td>\n",
       "    </tr>\n",
       "    <tr>\n",
       "      <th>13</th>\n",
       "      <td>xertioN</td>\n",
       "      <td>80.604343</td>\n",
       "    </tr>\n",
       "    <tr>\n",
       "      <th>23</th>\n",
       "      <td>KSCERATO</td>\n",
       "      <td>80.604343</td>\n",
       "    </tr>\n",
       "  </tbody>\n",
       "</table>\n",
       "</div>"
      ],
      "text/plain": [
       "       Player  PredictedScore\n",
       "0        donk      100.003545\n",
       "2       ZywOo       99.251324\n",
       "1      m0NESY       99.251324\n",
       "3        NiKo       97.003255\n",
       "14   XANTARES       97.003255\n",
       "11    malbsMd       94.288371\n",
       "5       sh1ro       91.848263\n",
       "20      NertZ       90.834600\n",
       "7       broky       88.999360\n",
       "10  w0nderful       87.498411\n",
       "8         b1t       87.498411\n",
       "4          jL       87.498411\n",
       "6      flameZ       84.996217\n",
       "18      EliGE       84.996217\n",
       "9      frozen       84.750323\n",
       "17       ropz       82.332522\n",
       "21    Brollan       80.994273\n",
       "15         iM       80.994273\n",
       "13    xertioN       80.604343\n",
       "23   KSCERATO       80.604343"
      ]
     },
     "execution_count": 51,
     "metadata": {},
     "output_type": "execute_result"
    }
   ],
   "source": [
    "# Cell 7 - Train on all data and predict 2024\n",
    "final_model = DecisionTreeRegressor(max_depth=12, min_samples_split=8)\n",
    "final_model.fit(X_train, y_train)\n",
    "preds_2024 = final_model.predict(X_test)\n",
    "\n",
    "test_df['PredictedScore'] = preds_2024\n",
    "top_20 = test_df.sort_values(by='PredictedScore', ascending=False).head(20)\n",
    "top_20[['Player', 'PredictedScore']]\n"
   ]
  },
  {
   "cell_type": "code",
   "execution_count": 52,
   "metadata": {
    "executionInfo": {
     "elapsed": 16,
     "status": "ok",
     "timestamp": 1746765934256,
     "user": {
      "displayName": "Mark Zhdan",
      "userId": "15470042796455103966"
     },
     "user_tz": 300
    },
    "id": "kzddew7SVe_u"
   },
   "outputs": [],
   "source": [
    "# Load actual HLTV 2024 rankings\n",
    "actual_df = pd.read_csv('../../rankings/ranking_2024.csv')\n",
    "\n",
    "# Normalize nicknames in both DataFrames (for easier comparison)\n",
    "def normalize(name):\n",
    "    return name.strip().lower().replace(\"⁠\", \"\").replace(\"’\", \"'\").replace(\"`\", \"'\")\n",
    "\n",
    "actual_df['Nickname'] = actual_df['Nickname'].apply(normalize)\n",
    "top_20['Player'] = top_20['Player'].apply(normalize)\n",
    "\n",
    "# Map: nickname -> actual rank\n",
    "actual_ranks = {row['Nickname']: row['Rank'] for _, row in actual_df.iterrows()}\n",
    "\n",
    "# Evaluation function\n",
    "def score_ranking(pred_df, actual_rank_dict):\n",
    "    score = 0\n",
    "    graded = []\n",
    "\n",
    "    for pred_rank, row in enumerate(pred_df['Player'].values, 1):\n",
    "        actual_rank = actual_rank_dict.get(row)\n",
    "\n",
    "        if actual_rank:\n",
    "            diff = abs(actual_rank - pred_rank)\n",
    "            if diff == 0:\n",
    "                pts = 5\n",
    "            elif diff == 1:\n",
    "                pts = 4\n",
    "            elif diff == 2:\n",
    "                pts = 3\n",
    "            elif diff == 3:\n",
    "                pts = 2\n",
    "            elif diff <= 5:\n",
    "                pts = 1\n",
    "            else:\n",
    "                pts = 0\n",
    "        else:\n",
    "            pts = 0\n",
    "\n",
    "        graded.append((pred_rank, row, actual_rank, pts))\n",
    "        score += pts\n",
    "\n",
    "    return score, graded\n"
   ]
  },
  {
   "cell_type": "code",
   "execution_count": 53,
   "metadata": {
    "colab": {
     "base_uri": "https://localhost:8080/"
    },
    "executionInfo": {
     "elapsed": 5,
     "status": "ok",
     "timestamp": 1746765936611,
     "user": {
      "displayName": "Mark Zhdan",
      "userId": "15470042796455103966"
     },
     "user_tz": 300
    },
    "id": "yGdCvKnlVwWp",
    "outputId": "5b8c907a-81ae-4fc7-9fd6-aab447b7c389"
   },
   "outputs": [
    {
     "name": "stdout",
     "output_type": "stream",
     "text": [
      "🏆 Total Ranking Score: 44/100\n",
      "\n",
      "🔍 Breakdown:\n",
      "Predicted # 1: donk            | Actual: 1  | +5 pts\n",
      "Predicted # 2: zywoo           | Actual: 3  | +4 pts\n",
      "Predicted # 3: m0nesy          | Actual: 2  | +4 pts\n",
      "Predicted # 4: niko            | Actual: 4  | +5 pts\n",
      "Predicted # 5: xantares        | Actual: 15 | +0 pts\n",
      "Predicted # 6: malbsmd         | Actual: 12 | +0 pts\n",
      "Predicted # 7: sh1ro           | Actual: 6  | +4 pts\n",
      "Predicted # 8: nertz           | Actual: 21 | +0 pts\n",
      "Predicted # 9: broky           | Actual: 8  | +4 pts\n",
      "Predicted #10: w0nderful       | Actual: 11 | +4 pts\n",
      "Predicted #11: b1t             | Actual: 9  | +3 pts\n",
      "Predicted #12: jl              | Actual: 5  | +0 pts\n",
      "Predicted #13: flamez          | Actual: 7  | +0 pts\n",
      "Predicted #14: elige           | Actual: 19 | +1 pts\n",
      "Predicted #15: frozen          | Actual: 10 | +1 pts\n",
      "Predicted #16: ropz            | Actual: 18 | +3 pts\n",
      "Predicted #17: brollan         | Actual: 22 | +1 pts\n",
      "Predicted #18: im              | Actual: 16 | +3 pts\n",
      "Predicted #19: xertion         | Actual: 14 | +1 pts\n",
      "Predicted #20: kscerato        | Actual: 24 | +1 pts\n"
     ]
    }
   ],
   "source": [
    "# Run scoring\n",
    "total_score, breakdown = score_ranking(top_20, actual_ranks)\n",
    "\n",
    "# Display summary\n",
    "print(f\"🏆 Total Ranking Score: {total_score}/100\\n\")\n",
    "print(\"🔍 Breakdown:\")\n",
    "for pred_rank, nickname, actual_rank, pts in breakdown:\n",
    "    print(f\"Predicted #{pred_rank:>2}: {nickname:<15} | Actual: {actual_rank if actual_rank else 'N/A':<2} | +{pts} pts\")"
   ]
  }
 ],
 "metadata": {
  "colab": {
   "authorship_tag": "ABX9TyN2vCQTzB/LDjBCBv5p0UPJ",
   "provenance": []
  },
  "kernelspec": {
   "display_name": "Python 3",
   "name": "python3"
  },
  "language_info": {
   "codemirror_mode": {
    "name": "ipython",
    "version": 3
   },
   "file_extension": ".py",
   "mimetype": "text/x-python",
   "name": "python",
   "nbconvert_exporter": "python",
   "pygments_lexer": "ipython3",
   "version": "3.11.3"
  }
 },
 "nbformat": 4,
 "nbformat_minor": 0
}
